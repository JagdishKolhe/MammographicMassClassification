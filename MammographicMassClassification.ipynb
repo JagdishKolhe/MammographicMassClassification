{
  "nbformat": 4,
  "nbformat_minor": 0,
  "metadata": {
    "colab": {
      "name": "MammographicMassClassification.ipynb",
      "provenance": [],
      "collapsed_sections": []
    },
    "kernelspec": {
      "name": "python3",
      "display_name": "Python 3"
    }
  },
  "cells": [
    {
      "cell_type": "code",
      "metadata": {
        "id": "amrOUgOjdmJx",
        "outputId": "eb9eb020-3a42-4b6e-b6ae-fecaf05f0851",
        "colab": {
          "base_uri": "https://localhost:8080/",
          "height": 0
        }
      },
      "source": [
        "!git clone https://github.com/JagdishKolhe/MammographicMassClassification.git"
      ],
      "execution_count": 1,
      "outputs": [
        {
          "output_type": "stream",
          "text": [
            "Cloning into 'MammographicMassClassification'...\n",
            "remote: Enumerating objects: 8, done.\u001b[K\n",
            "remote: Counting objects: 100% (8/8), done.\u001b[K\n",
            "remote: Compressing objects: 100% (7/7), done.\u001b[K\n",
            "remote: Total 8 (delta 1), reused 0 (delta 0), pack-reused 0\u001b[K\n",
            "Unpacking objects: 100% (8/8), done.\n"
          ],
          "name": "stdout"
        }
      ]
    },
    {
      "cell_type": "code",
      "metadata": {
        "id": "LdveM18yg_4n"
      },
      "source": [
        "import numpy as np\n",
        "import pandas as pd\n",
        "\n",
        "import pprint\n",
        "pp = pprint.PrettyPrinter(indent=4)\n",
        "\n",
        "from sklearn import model_selection\n",
        "from sklearn.preprocessing import OneHotEncoder\n",
        "\n",
        "import matplotlib.pyplot as plt\n",
        "%matplotlib inline\n",
        "import seaborn as sns\n"
      ],
      "execution_count": 39,
      "outputs": []
    },
    {
      "cell_type": "code",
      "metadata": {
        "id": "udT6pXOAduF-"
      },
      "source": [
        "train_file = \"/content/MammographicMassClassification/Train.xlsx\"\n",
        "\n",
        "test_file = \"/content/MammographicMassClassification/Test.xlsx\""
      ],
      "execution_count": 40,
      "outputs": []
    },
    {
      "cell_type": "code",
      "metadata": {
        "id": "-QxJzlcyg036",
        "outputId": "980a1b4e-5138-4448-b439-45f7186fe290",
        "colab": {
          "base_uri": "https://localhost:8080/",
          "height": 0
        }
      },
      "source": [
        "# Read excel file, and drop Index colum. OR read only required colums from excel using usecols parameter.\n",
        "\n",
        "test_pd = pd.read_excel(test_file, usecols=[\"BI_RADS\", \"Age\", \"Shape\", \"Margin\", \"Mass_Density\", \"Severity\"])\n",
        "train_pd = pd.read_excel(train_file, usecols=[\"BI_RADS\", \"Age\", \"Shape\", \"Margin\", \"Mass_Density\", \"Severity\"])\n",
        "\n",
        "print(\"%d records in train\" %(len(train_pd)))"
      ],
      "execution_count": 41,
      "outputs": [
        {
          "output_type": "stream",
          "text": [
            "811 records in train\n"
          ],
          "name": "stdout"
        }
      ]
    },
    {
      "cell_type": "markdown",
      "metadata": {
        "id": "3OBvnu3ohstt"
      },
      "source": [
        "# Check for null values in the data.\n",
        "\n",
        "Lets try building the model by droping the na values. Later we can try imputing NA values.\n",
        "\n",
        "There are multiple ways to fill na values.\n",
        "1. Use mean or median or mode. Before choosing we shuld consider the  distribution of the data. eg. if we  have outliers then mean, median and mode values affects a lot.\n",
        "2. Try finding nearest neighbour for the missing value and pickup the value form that nearest neighbour.\n",
        "\n",
        "\n",
        "For now lets choose to drop the NA\n"
      ]
    },
    {
      "cell_type": "code",
      "metadata": {
        "id": "BDoz7EmZg5FG",
        "outputId": "44c2b535-0f9a-4ef6-a7b8-2dbc0771a96c",
        "colab": {
          "base_uri": "https://localhost:8080/",
          "height": 0
        }
      },
      "source": [
        "x_train_pd = train_pd.dropna()\n",
        "x_train_pd.reset_index(drop=True, inplace=True)\n",
        "print(\"%d records in train, after dropna\" %(len(x_train_pd)))\n"
      ],
      "execution_count": 42,
      "outputs": [
        {
          "output_type": "stream",
          "text": [
            "610 records in train, after dropna\n"
          ],
          "name": "stdout"
        }
      ]
    },
    {
      "cell_type": "code",
      "metadata": {
        "id": "CB4yJYcHhlPB",
        "outputId": "0be7329d-d1e9-43d0-97be-86a51e13a5dd",
        "colab": {
          "base_uri": "https://localhost:8080/",
          "height": 419
        }
      },
      "source": [
        "x_train_pd"
      ],
      "execution_count": 43,
      "outputs": [
        {
          "output_type": "execute_result",
          "data": {
            "text/html": [
              "<div>\n",
              "<style scoped>\n",
              "    .dataframe tbody tr th:only-of-type {\n",
              "        vertical-align: middle;\n",
              "    }\n",
              "\n",
              "    .dataframe tbody tr th {\n",
              "        vertical-align: top;\n",
              "    }\n",
              "\n",
              "    .dataframe thead th {\n",
              "        text-align: right;\n",
              "    }\n",
              "</style>\n",
              "<table border=\"1\" class=\"dataframe\">\n",
              "  <thead>\n",
              "    <tr style=\"text-align: right;\">\n",
              "      <th></th>\n",
              "      <th>BI_RADS</th>\n",
              "      <th>Age</th>\n",
              "      <th>Shape</th>\n",
              "      <th>Margin</th>\n",
              "      <th>Mass_Density</th>\n",
              "      <th>Severity</th>\n",
              "    </tr>\n",
              "  </thead>\n",
              "  <tbody>\n",
              "    <tr>\n",
              "      <th>0</th>\n",
              "      <td>5.0</td>\n",
              "      <td>67.0</td>\n",
              "      <td>lobular</td>\n",
              "      <td>spiculated</td>\n",
              "      <td>low</td>\n",
              "      <td>1</td>\n",
              "    </tr>\n",
              "    <tr>\n",
              "      <th>1</th>\n",
              "      <td>5.0</td>\n",
              "      <td>58.0</td>\n",
              "      <td>irregular</td>\n",
              "      <td>spiculated</td>\n",
              "      <td>low</td>\n",
              "      <td>1</td>\n",
              "    </tr>\n",
              "    <tr>\n",
              "      <th>2</th>\n",
              "      <td>4.0</td>\n",
              "      <td>28.0</td>\n",
              "      <td>round</td>\n",
              "      <td>circumscribed</td>\n",
              "      <td>low</td>\n",
              "      <td>0</td>\n",
              "    </tr>\n",
              "    <tr>\n",
              "      <th>3</th>\n",
              "      <td>5.0</td>\n",
              "      <td>57.0</td>\n",
              "      <td>round</td>\n",
              "      <td>spiculated</td>\n",
              "      <td>low</td>\n",
              "      <td>1</td>\n",
              "    </tr>\n",
              "    <tr>\n",
              "      <th>4</th>\n",
              "      <td>5.0</td>\n",
              "      <td>76.0</td>\n",
              "      <td>round</td>\n",
              "      <td>ill-defined</td>\n",
              "      <td>low</td>\n",
              "      <td>1</td>\n",
              "    </tr>\n",
              "    <tr>\n",
              "      <th>...</th>\n",
              "      <td>...</td>\n",
              "      <td>...</td>\n",
              "      <td>...</td>\n",
              "      <td>...</td>\n",
              "      <td>...</td>\n",
              "      <td>...</td>\n",
              "    </tr>\n",
              "    <tr>\n",
              "      <th>605</th>\n",
              "      <td>5.0</td>\n",
              "      <td>5.0</td>\n",
              "      <td>irregular</td>\n",
              "      <td>ill-defined</td>\n",
              "      <td>iso</td>\n",
              "      <td>1</td>\n",
              "    </tr>\n",
              "    <tr>\n",
              "      <th>606</th>\n",
              "      <td>5.0</td>\n",
              "      <td>62.0</td>\n",
              "      <td>irregular</td>\n",
              "      <td>ill-defined</td>\n",
              "      <td>iso</td>\n",
              "      <td>1</td>\n",
              "    </tr>\n",
              "    <tr>\n",
              "      <th>607</th>\n",
              "      <td>4.0</td>\n",
              "      <td>56.0</td>\n",
              "      <td>oval</td>\n",
              "      <td>circumscribed</td>\n",
              "      <td>low</td>\n",
              "      <td>0</td>\n",
              "    </tr>\n",
              "    <tr>\n",
              "      <th>608</th>\n",
              "      <td>5.0</td>\n",
              "      <td>58.0</td>\n",
              "      <td>irregular</td>\n",
              "      <td>ill-defined</td>\n",
              "      <td>low</td>\n",
              "      <td>1</td>\n",
              "    </tr>\n",
              "    <tr>\n",
              "      <th>609</th>\n",
              "      <td>5.0</td>\n",
              "      <td>75.0</td>\n",
              "      <td>irregular</td>\n",
              "      <td>spiculated</td>\n",
              "      <td>low</td>\n",
              "      <td>1</td>\n",
              "    </tr>\n",
              "  </tbody>\n",
              "</table>\n",
              "<p>610 rows × 6 columns</p>\n",
              "</div>"
            ],
            "text/plain": [
              "     BI_RADS   Age      Shape         Margin Mass_Density  Severity\n",
              "0        5.0  67.0    lobular     spiculated          low         1\n",
              "1        5.0  58.0  irregular     spiculated          low         1\n",
              "2        4.0  28.0      round  circumscribed          low         0\n",
              "3        5.0  57.0      round     spiculated          low         1\n",
              "4        5.0  76.0      round    ill-defined          low         1\n",
              "..       ...   ...        ...            ...          ...       ...\n",
              "605      5.0   5.0  irregular    ill-defined          iso         1\n",
              "606      5.0  62.0  irregular    ill-defined          iso         1\n",
              "607      4.0  56.0       oval  circumscribed          low         0\n",
              "608      5.0  58.0  irregular    ill-defined          low         1\n",
              "609      5.0  75.0  irregular     spiculated          low         1\n",
              "\n",
              "[610 rows x 6 columns]"
            ]
          },
          "metadata": {
            "tags": []
          },
          "execution_count": 43
        }
      ]
    },
    {
      "cell_type": "code",
      "metadata": {
        "id": "UK5L560TMQUY",
        "outputId": "17adcb3a-802b-4823-99dc-049ab47d0742",
        "colab": {
          "base_uri": "https://localhost:8080/",
          "height": 296
        }
      },
      "source": [
        "sns.countplot(x=\"Severity\", data=x_train_pd)"
      ],
      "execution_count": 44,
      "outputs": [
        {
          "output_type": "execute_result",
          "data": {
            "text/plain": [
              "<matplotlib.axes._subplots.AxesSubplot at 0x7f8859310b38>"
            ]
          },
          "metadata": {
            "tags": []
          },
          "execution_count": 44
        },
        {
          "output_type": "display_data",
          "data": {
            "image/png": "[encoded data removed]",
            "text/plain": [
              "<Figure size 432x288 with 1 Axes>"
            ]
          },
          "metadata": {
            "tags": [],
            "needs_background": "light"
          }
        }
      ]
    },
    {
      "cell_type": "markdown",
      "metadata": {
        "id": "q-VAgBd4Meko"
      },
      "source": [
        "From above plot, Overall we can say that the data is balenced, and we are good to go with further analysis.\n",
        "\n",
        "In case if data is imbalance, we can balence it using following polular techniques\n",
        "1. SMOTE (Synthetic Minority Over-sampling Technique)\n",
        "2. Random under-sampling and over-sampling\n",
        "\n",
        "\n",
        "On the other hand we can use different types of algorithm like trees, RandomForest which are prone to imbalenced data. Also, we can fine tune the model threshold using AUC/ROC curves. "
      ]
    },
    {
      "cell_type": "code",
      "metadata": {
        "id": "KvwsPmpd7fMm",
        "outputId": "2de9675e-eab8-4298-e381-adad9b0bb7a9",
        "colab": {
          "base_uri": "https://localhost:8080/",
          "height": 0
        }
      },
      "source": [
        "# print('\\n', x_train_pd['Shape'].value_counts())\n",
        "# print('\\n', x_train_pd['Margin'].value_counts())\n",
        "# print('\\n', x_train_pd['Mass_Density'].value_counts())\n",
        "\n",
        "print(pd.unique(x_train_pd['Shape']))\n",
        "print(pd.unique(x_train_pd['Margin']))\n",
        "print(pd.unique(x_train_pd['Mass_Density']))\n",
        "\n",
        "print(\"\\n\")\n",
        "print(pd.unique(test_pd['Shape']))\n",
        "print(pd.unique(test_pd['Margin']))\n",
        "print(pd.unique(test_pd['Mass_Density']))"
      ],
      "execution_count": 45,
      "outputs": [
        {
          "output_type": "stream",
          "text": [
            "['lobular' 'irregular' 'round' 'oval']\n",
            "['spiculated' 'circumscribed' 'ill-defined' 'obscured' 'microlobulated']\n",
            "['low' 'iso' 'high' 'fat-containing']\n",
            "\n",
            "\n",
            "['lobular' 'oval' 'irregular' 'round' nan]\n",
            "['ill-defined' 'microlobulated' 'circumscribed' nan 'obscured'\n",
            " 'spiculated']\n",
            "['low' 'fat-containing' 'iso' 'high']\n"
          ],
          "name": "stdout"
        }
      ]
    },
    {
      "cell_type": "markdown",
      "metadata": {
        "id": "Z0hvr1PvWUQL"
      },
      "source": [
        "# Plot fraction of patients with respect to Severity versus age\n",
        "\n",
        "Here we will try to find proportionately how many people are affected w.r.t Age.\n",
        "\n",
        "This proportionate can also be considerd as probablity of having malignant w.r.t. Age "
      ]
    },
    {
      "cell_type": "code",
      "metadata": {
        "id": "eVH5LFDHQ6AB",
        "outputId": "685c9cbf-f5d5-4115-b6fb-886321256f70",
        "colab": {
          "base_uri": "https://localhost:8080/",
          "height": 400
        }
      },
      "source": [
        "grouped = x_train_pd.groupby('Age')\n",
        "age_mean = grouped.mean()\n",
        "sns.relplot(x=\"Age\", y=\"Severity\", data=age_mean)\n",
        "\n",
        "# age_mean"
      ],
      "execution_count": 46,
      "outputs": [
        {
          "output_type": "execute_result",
          "data": {
            "text/plain": [
              "<seaborn.axisgrid.FacetGrid at 0x7f88593414e0>"
            ]
          },
          "metadata": {
            "tags": []
          },
          "execution_count": 46
        },
        {
          "output_type": "display_data",
          "data": {
            "image/png": "[encoded data removed]",
            "text/plain": [
              "<Figure size 360x360 with 1 Axes>"
            ]
          },
          "metadata": {
            "tags": [],
            "needs_background": "light"
          }
        }
      ]
    },
    {
      "cell_type": "markdown",
      "metadata": {
        "id": "kQTH623kaHEN"
      },
      "source": [
        "Above plot shows that, **higher the age, higher** the chances of **Severity**\n",
        "\n",
        "In other words, age is an important decision making feature.\n",
        "\n",
        "# Lets look at **Shape** now."
      ]
    },
    {
      "cell_type": "code",
      "metadata": {
        "id": "SAQdfxPuPih3",
        "outputId": "6c72dac4-0227-4fa5-ac4f-77f26aa58913",
        "colab": {
          "base_uri": "https://localhost:8080/",
          "height": 296
        }
      },
      "source": [
        "grouped = x_train_pd.groupby('Shape')\n",
        "age_mean = grouped.count()\n",
        "\n",
        "sns.countplot(x=\"Shape\", data=x_train_pd, hue=\"Severity\")"
      ],
      "execution_count": 47,
      "outputs": [
        {
          "output_type": "execute_result",
          "data": {
            "text/plain": [
              "<matplotlib.axes._subplots.AxesSubplot at 0x7f88587dbcf8>"
            ]
          },
          "metadata": {
            "tags": []
          },
          "execution_count": 47
        },
        {
          "output_type": "display_data",
          "data": {
            "image/png": "[encoded data removed]",
            "text/plain": [
              "<Figure size 432x288 with 1 Axes>"
            ]
          },
          "metadata": {
            "tags": [],
            "needs_background": "light"
          }
        }
      ]
    },
    {
      "cell_type": "markdown",
      "metadata": {
        "id": "fcTebmUYe6o7"
      },
      "source": [
        "Bar plot for **Shape** as above, says that **irregular** shape means very high chance of Malignant. Whereas round and oval shape means less Severity. lobular Shape has almost equal chance of Malignant/benign\n",
        "\n",
        "This means, Shape is also very important feature."
      ]
    },
    {
      "cell_type": "code",
      "metadata": {
        "id": "Mtn5-or0fxjX",
        "outputId": "1b34da23-ee91-49da-e7fd-a52dc08a2ead",
        "colab": {
          "base_uri": "https://localhost:8080/",
          "height": 296
        }
      },
      "source": [
        "grouped = x_train_pd.groupby('Margin')\n",
        "age_mean = grouped.count()\n",
        "\n",
        "sns.countplot(x=\"Margin\", data=x_train_pd, hue=\"Severity\")"
      ],
      "execution_count": 48,
      "outputs": [
        {
          "output_type": "execute_result",
          "data": {
            "text/plain": [
              "<matplotlib.axes._subplots.AxesSubplot at 0x7f88587a83c8>"
            ]
          },
          "metadata": {
            "tags": []
          },
          "execution_count": 48
        },
        {
          "output_type": "display_data",
          "data": {
            "image/png": "[encoded data removed]",
            "text/plain": [
              "<Figure size 432x288 with 1 Axes>"
            ]
          },
          "metadata": {
            "tags": [],
            "needs_background": "light"
          }
        }
      ]
    },
    {
      "cell_type": "markdown",
      "metadata": {
        "id": "Pu81aC0cgFL0"
      },
      "source": [
        "From above plot, We can say, **Margin** is also the deciding factor.\n",
        "\n",
        "Circumscrbed means less Severity, Whereas ill-defined means High Severity and so on."
      ]
    },
    {
      "cell_type": "code",
      "metadata": {
        "id": "Qp-KhLzAgo8E",
        "outputId": "e6aa9470-99bb-467c-a25c-c8ce075dc811",
        "colab": {
          "base_uri": "https://localhost:8080/",
          "height": 297
        }
      },
      "source": [
        "grouped = x_train_pd.groupby('Mass_Density')\n",
        "age_mean = grouped.count()\n",
        "\n",
        "sns.countplot(x=\"Mass_Density\", data=x_train_pd, hue=\"Severity\")"
      ],
      "execution_count": 49,
      "outputs": [
        {
          "output_type": "execute_result",
          "data": {
            "text/plain": [
              "<matplotlib.axes._subplots.AxesSubplot at 0x7f885871e6a0>"
            ]
          },
          "metadata": {
            "tags": []
          },
          "execution_count": 49
        },
        {
          "output_type": "display_data",
          "data": {
            "image/png": "[encoded data removed]",
            "text/plain": [
              "<Figure size 432x288 with 1 Axes>"
            ]
          },
          "metadata": {
            "tags": [],
            "needs_background": "light"
          }
        }
      ]
    },
    {
      "cell_type": "markdown",
      "metadata": {
        "id": "Bruio9Lrg2LN"
      },
      "source": [
        "Here we have class imbalance, we have less observations for iso, high, fat-containing densities.\n",
        "\n",
        "We need to collect enough records for such imbalanced observations. This type of data will definitly affect the decision making.\n",
        "\n",
        "Here, for every Mass-category we have nearly equal probability for Malignant OR benign"
      ]
    },
    {
      "cell_type": "markdown",
      "metadata": {
        "id": "INdrytfy5WO5"
      },
      "source": [
        "# Data Encoding.\n",
        "\n",
        "As we know from problem definition that, **BI-RADS** and **Density** are ordinal data, So We should use **LabelEncoding** for such data.\n",
        "\n",
        "**Shape** and **Margin** are nominal data, so lets use **OneHotEncoding** for such data.\n",
        "\n",
        "## Why we should not use LableEncoding for nominal data?\n",
        "\n",
        "Its because, LableEncoder will assign numetic accending values to nominal data. That is we can can rank/sort this data. Hence there is a very high probability that the model captures the relationship between Margins such as spiculated < circumscribed < ill-defined.\n",
        "\n",
        "\n",
        "## In our case...\n",
        "\n",
        "I am not using the LableEncoder from sklearn rather replacing/mapping the values as given in the problem statement."
      ]
    },
    {
      "cell_type": "code",
      "metadata": {
        "id": "p8uUOY7N4m2E",
        "outputId": "f06e7a4f-f1e0-4ddf-fd31-cfad5f129213",
        "colab": {
          "base_uri": "https://localhost:8080/",
          "height": 0
        }
      },
      "source": [
        "x_train_pd['Density'] = x_train_pd['Mass_Density'].map({'high':1, 'iso':2, 'low':3, 'fat-containing': 4 })\n",
        "\n",
        "x_train_pd.drop(['Mass_Density'], inplace=True, axis=1)"
      ],
      "execution_count": 50,
      "outputs": [
        {
          "output_type": "stream",
          "text": [
            "/usr/local/lib/python3.6/dist-packages/ipykernel_launcher.py:1: SettingWithCopyWarning: \n",
            "A value is trying to be set on a copy of a slice from a DataFrame.\n",
            "Try using .loc[row_indexer,col_indexer] = value instead\n",
            "\n",
            "See the caveats in the documentation: https://pandas.pydata.org/pandas-docs/stable/user_guide/indexing.html#returning-a-view-versus-a-copy\n",
            "  \"\"\"Entry point for launching an IPython kernel.\n",
            "/usr/local/lib/python3.6/dist-packages/pandas/core/frame.py:4174: SettingWithCopyWarning: \n",
            "A value is trying to be set on a copy of a slice from a DataFrame\n",
            "\n",
            "See the caveats in the documentation: https://pandas.pydata.org/pandas-docs/stable/user_guide/indexing.html#returning-a-view-versus-a-copy\n",
            "  errors=errors,\n"
          ],
          "name": "stderr"
        }
      ]
    },
    {
      "cell_type": "code",
      "metadata": {
        "id": "Vn2A1rhpESQr",
        "outputId": "cf0c3934-37b0-4dbc-bac3-9c38f64fddc0",
        "colab": {
          "base_uri": "https://localhost:8080/",
          "height": 419
        }
      },
      "source": [
        "x_train_pd"
      ],
      "execution_count": 51,
      "outputs": [
        {
          "output_type": "execute_result",
          "data": {
            "text/html": [
              "<div>\n",
              "<style scoped>\n",
              "    .dataframe tbody tr th:only-of-type {\n",
              "        vertical-align: middle;\n",
              "    }\n",
              "\n",
              "    .dataframe tbody tr th {\n",
              "        vertical-align: top;\n",
              "    }\n",
              "\n",
              "    .dataframe thead th {\n",
              "        text-align: right;\n",
              "    }\n",
              "</style>\n",
              "<table border=\"1\" class=\"dataframe\">\n",
              "  <thead>\n",
              "    <tr style=\"text-align: right;\">\n",
              "      <th></th>\n",
              "      <th>BI_RADS</th>\n",
              "      <th>Age</th>\n",
              "      <th>Shape</th>\n",
              "      <th>Margin</th>\n",
              "      <th>Severity</th>\n",
              "      <th>Density</th>\n",
              "    </tr>\n",
              "  </thead>\n",
              "  <tbody>\n",
              "    <tr>\n",
              "      <th>0</th>\n",
              "      <td>5.0</td>\n",
              "      <td>67.0</td>\n",
              "      <td>lobular</td>\n",
              "      <td>spiculated</td>\n",
              "      <td>1</td>\n",
              "      <td>3</td>\n",
              "    </tr>\n",
              "    <tr>\n",
              "      <th>1</th>\n",
              "      <td>5.0</td>\n",
              "      <td>58.0</td>\n",
              "      <td>irregular</td>\n",
              "      <td>spiculated</td>\n",
              "      <td>1</td>\n",
              "      <td>3</td>\n",
              "    </tr>\n",
              "    <tr>\n",
              "      <th>2</th>\n",
              "      <td>4.0</td>\n",
              "      <td>28.0</td>\n",
              "      <td>round</td>\n",
              "      <td>circumscribed</td>\n",
              "      <td>0</td>\n",
              "      <td>3</td>\n",
              "    </tr>\n",
              "    <tr>\n",
              "      <th>3</th>\n",
              "      <td>5.0</td>\n",
              "      <td>57.0</td>\n",
              "      <td>round</td>\n",
              "      <td>spiculated</td>\n",
              "      <td>1</td>\n",
              "      <td>3</td>\n",
              "    </tr>\n",
              "    <tr>\n",
              "      <th>4</th>\n",
              "      <td>5.0</td>\n",
              "      <td>76.0</td>\n",
              "      <td>round</td>\n",
              "      <td>ill-defined</td>\n",
              "      <td>1</td>\n",
              "      <td>3</td>\n",
              "    </tr>\n",
              "    <tr>\n",
              "      <th>...</th>\n",
              "      <td>...</td>\n",
              "      <td>...</td>\n",
              "      <td>...</td>\n",
              "      <td>...</td>\n",
              "      <td>...</td>\n",
              "      <td>...</td>\n",
              "    </tr>\n",
              "    <tr>\n",
              "      <th>605</th>\n",
              "      <td>5.0</td>\n",
              "      <td>5.0</td>\n",
              "      <td>irregular</td>\n",
              "      <td>ill-defined</td>\n",
              "      <td>1</td>\n",
              "      <td>2</td>\n",
              "    </tr>\n",
              "    <tr>\n",
              "      <th>606</th>\n",
              "      <td>5.0</td>\n",
              "      <td>62.0</td>\n",
              "      <td>irregular</td>\n",
              "      <td>ill-defined</td>\n",
              "      <td>1</td>\n",
              "      <td>2</td>\n",
              "    </tr>\n",
              "    <tr>\n",
              "      <th>607</th>\n",
              "      <td>4.0</td>\n",
              "      <td>56.0</td>\n",
              "      <td>oval</td>\n",
              "      <td>circumscribed</td>\n",
              "      <td>0</td>\n",
              "      <td>3</td>\n",
              "    </tr>\n",
              "    <tr>\n",
              "      <th>608</th>\n",
              "      <td>5.0</td>\n",
              "      <td>58.0</td>\n",
              "      <td>irregular</td>\n",
              "      <td>ill-defined</td>\n",
              "      <td>1</td>\n",
              "      <td>3</td>\n",
              "    </tr>\n",
              "    <tr>\n",
              "      <th>609</th>\n",
              "      <td>5.0</td>\n",
              "      <td>75.0</td>\n",
              "      <td>irregular</td>\n",
              "      <td>spiculated</td>\n",
              "      <td>1</td>\n",
              "      <td>3</td>\n",
              "    </tr>\n",
              "  </tbody>\n",
              "</table>\n",
              "<p>610 rows × 6 columns</p>\n",
              "</div>"
            ],
            "text/plain": [
              "     BI_RADS   Age      Shape         Margin  Severity  Density\n",
              "0        5.0  67.0    lobular     spiculated         1        3\n",
              "1        5.0  58.0  irregular     spiculated         1        3\n",
              "2        4.0  28.0      round  circumscribed         0        3\n",
              "3        5.0  57.0      round     spiculated         1        3\n",
              "4        5.0  76.0      round    ill-defined         1        3\n",
              "..       ...   ...        ...            ...       ...      ...\n",
              "605      5.0   5.0  irregular    ill-defined         1        2\n",
              "606      5.0  62.0  irregular    ill-defined         1        2\n",
              "607      4.0  56.0       oval  circumscribed         0        3\n",
              "608      5.0  58.0  irregular    ill-defined         1        3\n",
              "609      5.0  75.0  irregular     spiculated         1        3\n",
              "\n",
              "[610 rows x 6 columns]"
            ]
          },
          "metadata": {
            "tags": []
          },
          "execution_count": 51
        }
      ]
    },
    {
      "cell_type": "code",
      "metadata": {
        "id": "1t3iJ9-S_4lg"
      },
      "source": [
        "shape_onehotencoder = OneHotEncoder()\n",
        "\n",
        "\n",
        "shape_intermediate = shape_onehotencoder.fit_transform(x_train_pd['Shape'].values.reshape(-1,1)).toarray()\n",
        "df_shape_OneHot = pd.DataFrame(shape_intermediate, columns = [\"Shape_\"+str(int(i)) for i in range(shape_intermediate.shape[1])]) \n",
        "\n",
        "# print(x_train_pd.shape)\n",
        "# print(df_shape_OneHot.shape)\n",
        "x_train_pd = pd.concat([x_train_pd, df_shape_OneHot],axis=1)\n",
        "x_train_pd.drop(['Shape'],  inplace=True, axis=1) \n",
        "\n",
        "\n",
        "# x_train_pd['Margin'] = margin_onehotencoder.fit_transform(x_train_pd['Margin'])"
      ],
      "execution_count": 52,
      "outputs": []
    },
    {
      "cell_type": "code",
      "metadata": {
        "id": "91eeHmO4CAr9"
      },
      "source": [
        "margin_onehotencoder = OneHotEncoder()\n",
        "\n",
        "\n",
        "margin_intermediate = margin_onehotencoder.fit_transform(x_train_pd['Margin'].values.reshape(-1,1)).toarray()\n",
        "df_margin_OneHot = pd.DataFrame(margin_intermediate, columns = [\"Margin_\"+str(int(i)) for i in range(margin_intermediate.shape[1])]) \n",
        "x_train_pd = pd.concat([x_train_pd, df_margin_OneHot], axis=1)\n",
        "x_train_pd.drop(['Margin'], inplace=True, axis=1) \n",
        "\n",
        "\n",
        "# x_train_pd['Margin'] = margin_onehotencoder.fit_transform(x_train_pd['Margin'])"
      ],
      "execution_count": 53,
      "outputs": []
    },
    {
      "cell_type": "code",
      "metadata": {
        "id": "PdVSGMOgHHWP",
        "outputId": "cc63947b-8c6c-45e1-8c7b-4322b6c3d15e",
        "colab": {
          "base_uri": "https://localhost:8080/",
          "height": 439
        }
      },
      "source": [
        "x_train_pd"
      ],
      "execution_count": 54,
      "outputs": [
        {
          "output_type": "execute_result",
          "data": {
            "text/html": [
              "<div>\n",
              "<style scoped>\n",
              "    .dataframe tbody tr th:only-of-type {\n",
              "        vertical-align: middle;\n",
              "    }\n",
              "\n",
              "    .dataframe tbody tr th {\n",
              "        vertical-align: top;\n",
              "    }\n",
              "\n",
              "    .dataframe thead th {\n",
              "        text-align: right;\n",
              "    }\n",
              "</style>\n",
              "<table border=\"1\" class=\"dataframe\">\n",
              "  <thead>\n",
              "    <tr style=\"text-align: right;\">\n",
              "      <th></th>\n",
              "      <th>BI_RADS</th>\n",
              "      <th>Age</th>\n",
              "      <th>Severity</th>\n",
              "      <th>Density</th>\n",
              "      <th>Shape_0</th>\n",
              "      <th>Shape_1</th>\n",
              "      <th>Shape_2</th>\n",
              "      <th>Shape_3</th>\n",
              "      <th>Margin_0</th>\n",
              "      <th>Margin_1</th>\n",
              "      <th>Margin_2</th>\n",
              "      <th>Margin_3</th>\n",
              "      <th>Margin_4</th>\n",
              "    </tr>\n",
              "  </thead>\n",
              "  <tbody>\n",
              "    <tr>\n",
              "      <th>0</th>\n",
              "      <td>5.0</td>\n",
              "      <td>67.0</td>\n",
              "      <td>1</td>\n",
              "      <td>3</td>\n",
              "      <td>0.0</td>\n",
              "      <td>1.0</td>\n",
              "      <td>0.0</td>\n",
              "      <td>0.0</td>\n",
              "      <td>0.0</td>\n",
              "      <td>0.0</td>\n",
              "      <td>0.0</td>\n",
              "      <td>0.0</td>\n",
              "      <td>1.0</td>\n",
              "    </tr>\n",
              "    <tr>\n",
              "      <th>1</th>\n",
              "      <td>5.0</td>\n",
              "      <td>58.0</td>\n",
              "      <td>1</td>\n",
              "      <td>3</td>\n",
              "      <td>1.0</td>\n",
              "      <td>0.0</td>\n",
              "      <td>0.0</td>\n",
              "      <td>0.0</td>\n",
              "      <td>0.0</td>\n",
              "      <td>0.0</td>\n",
              "      <td>0.0</td>\n",
              "      <td>0.0</td>\n",
              "      <td>1.0</td>\n",
              "    </tr>\n",
              "    <tr>\n",
              "      <th>2</th>\n",
              "      <td>4.0</td>\n",
              "      <td>28.0</td>\n",
              "      <td>0</td>\n",
              "      <td>3</td>\n",
              "      <td>0.0</td>\n",
              "      <td>0.0</td>\n",
              "      <td>0.0</td>\n",
              "      <td>1.0</td>\n",
              "      <td>1.0</td>\n",
              "      <td>0.0</td>\n",
              "      <td>0.0</td>\n",
              "      <td>0.0</td>\n",
              "      <td>0.0</td>\n",
              "    </tr>\n",
              "    <tr>\n",
              "      <th>3</th>\n",
              "      <td>5.0</td>\n",
              "      <td>57.0</td>\n",
              "      <td>1</td>\n",
              "      <td>3</td>\n",
              "      <td>0.0</td>\n",
              "      <td>0.0</td>\n",
              "      <td>0.0</td>\n",
              "      <td>1.0</td>\n",
              "      <td>0.0</td>\n",
              "      <td>0.0</td>\n",
              "      <td>0.0</td>\n",
              "      <td>0.0</td>\n",
              "      <td>1.0</td>\n",
              "    </tr>\n",
              "    <tr>\n",
              "      <th>4</th>\n",
              "      <td>5.0</td>\n",
              "      <td>76.0</td>\n",
              "      <td>1</td>\n",
              "      <td>3</td>\n",
              "      <td>0.0</td>\n",
              "      <td>0.0</td>\n",
              "      <td>0.0</td>\n",
              "      <td>1.0</td>\n",
              "      <td>0.0</td>\n",
              "      <td>1.0</td>\n",
              "      <td>0.0</td>\n",
              "      <td>0.0</td>\n",
              "      <td>0.0</td>\n",
              "    </tr>\n",
              "    <tr>\n",
              "      <th>...</th>\n",
              "      <td>...</td>\n",
              "      <td>...</td>\n",
              "      <td>...</td>\n",
              "      <td>...</td>\n",
              "      <td>...</td>\n",
              "      <td>...</td>\n",
              "      <td>...</td>\n",
              "      <td>...</td>\n",
              "      <td>...</td>\n",
              "      <td>...</td>\n",
              "      <td>...</td>\n",
              "      <td>...</td>\n",
              "      <td>...</td>\n",
              "    </tr>\n",
              "    <tr>\n",
              "      <th>605</th>\n",
              "      <td>5.0</td>\n",
              "      <td>5.0</td>\n",
              "      <td>1</td>\n",
              "      <td>2</td>\n",
              "      <td>1.0</td>\n",
              "      <td>0.0</td>\n",
              "      <td>0.0</td>\n",
              "      <td>0.0</td>\n",
              "      <td>0.0</td>\n",
              "      <td>1.0</td>\n",
              "      <td>0.0</td>\n",
              "      <td>0.0</td>\n",
              "      <td>0.0</td>\n",
              "    </tr>\n",
              "    <tr>\n",
              "      <th>606</th>\n",
              "      <td>5.0</td>\n",
              "      <td>62.0</td>\n",
              "      <td>1</td>\n",
              "      <td>2</td>\n",
              "      <td>1.0</td>\n",
              "      <td>0.0</td>\n",
              "      <td>0.0</td>\n",
              "      <td>0.0</td>\n",
              "      <td>0.0</td>\n",
              "      <td>1.0</td>\n",
              "      <td>0.0</td>\n",
              "      <td>0.0</td>\n",
              "      <td>0.0</td>\n",
              "    </tr>\n",
              "    <tr>\n",
              "      <th>607</th>\n",
              "      <td>4.0</td>\n",
              "      <td>56.0</td>\n",
              "      <td>0</td>\n",
              "      <td>3</td>\n",
              "      <td>0.0</td>\n",
              "      <td>0.0</td>\n",
              "      <td>1.0</td>\n",
              "      <td>0.0</td>\n",
              "      <td>1.0</td>\n",
              "      <td>0.0</td>\n",
              "      <td>0.0</td>\n",
              "      <td>0.0</td>\n",
              "      <td>0.0</td>\n",
              "    </tr>\n",
              "    <tr>\n",
              "      <th>608</th>\n",
              "      <td>5.0</td>\n",
              "      <td>58.0</td>\n",
              "      <td>1</td>\n",
              "      <td>3</td>\n",
              "      <td>1.0</td>\n",
              "      <td>0.0</td>\n",
              "      <td>0.0</td>\n",
              "      <td>0.0</td>\n",
              "      <td>0.0</td>\n",
              "      <td>1.0</td>\n",
              "      <td>0.0</td>\n",
              "      <td>0.0</td>\n",
              "      <td>0.0</td>\n",
              "    </tr>\n",
              "    <tr>\n",
              "      <th>609</th>\n",
              "      <td>5.0</td>\n",
              "      <td>75.0</td>\n",
              "      <td>1</td>\n",
              "      <td>3</td>\n",
              "      <td>1.0</td>\n",
              "      <td>0.0</td>\n",
              "      <td>0.0</td>\n",
              "      <td>0.0</td>\n",
              "      <td>0.0</td>\n",
              "      <td>0.0</td>\n",
              "      <td>0.0</td>\n",
              "      <td>0.0</td>\n",
              "      <td>1.0</td>\n",
              "    </tr>\n",
              "  </tbody>\n",
              "</table>\n",
              "<p>610 rows × 13 columns</p>\n",
              "</div>"
            ],
            "text/plain": [
              "     BI_RADS   Age  Severity  Density  ...  Margin_1  Margin_2  Margin_3  Margin_4\n",
              "0        5.0  67.0         1        3  ...       0.0       0.0       0.0       1.0\n",
              "1        5.0  58.0         1        3  ...       0.0       0.0       0.0       1.0\n",
              "2        4.0  28.0         0        3  ...       0.0       0.0       0.0       0.0\n",
              "3        5.0  57.0         1        3  ...       0.0       0.0       0.0       1.0\n",
              "4        5.0  76.0         1        3  ...       1.0       0.0       0.0       0.0\n",
              "..       ...   ...       ...      ...  ...       ...       ...       ...       ...\n",
              "605      5.0   5.0         1        2  ...       1.0       0.0       0.0       0.0\n",
              "606      5.0  62.0         1        2  ...       1.0       0.0       0.0       0.0\n",
              "607      4.0  56.0         0        3  ...       0.0       0.0       0.0       0.0\n",
              "608      5.0  58.0         1        3  ...       1.0       0.0       0.0       0.0\n",
              "609      5.0  75.0         1        3  ...       0.0       0.0       0.0       1.0\n",
              "\n",
              "[610 rows x 13 columns]"
            ]
          },
          "metadata": {
            "tags": []
          },
          "execution_count": 54
        }
      ]
    },
    {
      "cell_type": "markdown",
      "metadata": {
        "id": "JPpx02OvL_EU"
      },
      "source": [
        "# Same operataions on test data"
      ]
    },
    {
      "cell_type": "code",
      "metadata": {
        "id": "6OtF5aAaL-Lo",
        "outputId": "048e5a41-3d83-4ad5-b0c1-d97946aef71e",
        "colab": {
          "base_uri": "https://localhost:8080/",
          "height": 643
        }
      },
      "source": [
        "x_test_pd = test_pd.dropna()\n",
        "x_test_pd.reset_index(drop=True, inplace=True)\n",
        "print(\"%d records in test, after dropna\" %(len(x_test_pd)))\n",
        "\n",
        "x_test_pd['Density'] = x_test_pd['Mass_Density'].map({'high':1, 'iso':2, 'low':3, 'fat-containing': 4 })\n",
        "x_test_pd.drop(['Mass_Density'], inplace=True, axis=1)\n",
        "\n",
        "y_test_pd = x_test_pd['Severity']\n",
        "x_test_pd.drop(['Severity'], inplace=True, axis=1)\n",
        "\n",
        "shape_intermediate = shape_onehotencoder.transform(x_test_pd['Shape'].values.reshape(-1,1)).toarray()\n",
        "df_shape_OneHot = pd.DataFrame(shape_intermediate, columns = [\"Shape_\"+str(int(i)) for i in range(shape_intermediate.shape[1])]) \n",
        "x_test_pd = pd.concat([x_test_pd, df_shape_OneHot],axis=1)\n",
        "x_test_pd.drop(['Shape'],  inplace=True, axis=1) \n",
        "\n",
        "\n",
        "margin_intermediate = margin_onehotencoder.fit_transform(x_test_pd['Margin'].values.reshape(-1,1)).toarray()\n",
        "df_margin_OneHot = pd.DataFrame(margin_intermediate, columns = [\"Margin_\"+str(int(i)) for i in range(margin_intermediate.shape[1])]) \n",
        "x_test_pd = pd.concat([x_test_pd, df_margin_OneHot], axis=1)\n",
        "x_test_pd.drop(['Margin'], inplace=True, axis=1) \n",
        "\n",
        "\n",
        "x_test_pd"
      ],
      "execution_count": 55,
      "outputs": [
        {
          "output_type": "stream",
          "text": [
            "137 records in test, after dropna\n"
          ],
          "name": "stdout"
        },
        {
          "output_type": "stream",
          "text": [
            "/usr/local/lib/python3.6/dist-packages/ipykernel_launcher.py:5: SettingWithCopyWarning: \n",
            "A value is trying to be set on a copy of a slice from a DataFrame.\n",
            "Try using .loc[row_indexer,col_indexer] = value instead\n",
            "\n",
            "See the caveats in the documentation: https://pandas.pydata.org/pandas-docs/stable/user_guide/indexing.html#returning-a-view-versus-a-copy\n",
            "  \"\"\"\n",
            "/usr/local/lib/python3.6/dist-packages/pandas/core/frame.py:4174: SettingWithCopyWarning: \n",
            "A value is trying to be set on a copy of a slice from a DataFrame\n",
            "\n",
            "See the caveats in the documentation: https://pandas.pydata.org/pandas-docs/stable/user_guide/indexing.html#returning-a-view-versus-a-copy\n",
            "  errors=errors,\n"
          ],
          "name": "stderr"
        },
        {
          "output_type": "execute_result",
          "data": {
            "text/html": [
              "<div>\n",
              "<style scoped>\n",
              "    .dataframe tbody tr th:only-of-type {\n",
              "        vertical-align: middle;\n",
              "    }\n",
              "\n",
              "    .dataframe tbody tr th {\n",
              "        vertical-align: top;\n",
              "    }\n",
              "\n",
              "    .dataframe thead th {\n",
              "        text-align: right;\n",
              "    }\n",
              "</style>\n",
              "<table border=\"1\" class=\"dataframe\">\n",
              "  <thead>\n",
              "    <tr style=\"text-align: right;\">\n",
              "      <th></th>\n",
              "      <th>BI_RADS</th>\n",
              "      <th>Age</th>\n",
              "      <th>Density</th>\n",
              "      <th>Shape_0</th>\n",
              "      <th>Shape_1</th>\n",
              "      <th>Shape_2</th>\n",
              "      <th>Shape_3</th>\n",
              "      <th>Margin_0</th>\n",
              "      <th>Margin_1</th>\n",
              "      <th>Margin_2</th>\n",
              "      <th>Margin_3</th>\n",
              "      <th>Margin_4</th>\n",
              "    </tr>\n",
              "  </thead>\n",
              "  <tbody>\n",
              "    <tr>\n",
              "      <th>0</th>\n",
              "      <td>5</td>\n",
              "      <td>65.0</td>\n",
              "      <td>3</td>\n",
              "      <td>0.0</td>\n",
              "      <td>1.0</td>\n",
              "      <td>0.0</td>\n",
              "      <td>0.0</td>\n",
              "      <td>0.0</td>\n",
              "      <td>1.0</td>\n",
              "      <td>0.0</td>\n",
              "      <td>0.0</td>\n",
              "      <td>0.0</td>\n",
              "    </tr>\n",
              "    <tr>\n",
              "      <th>1</th>\n",
              "      <td>5</td>\n",
              "      <td>74.0</td>\n",
              "      <td>3</td>\n",
              "      <td>0.0</td>\n",
              "      <td>1.0</td>\n",
              "      <td>0.0</td>\n",
              "      <td>0.0</td>\n",
              "      <td>0.0</td>\n",
              "      <td>0.0</td>\n",
              "      <td>1.0</td>\n",
              "      <td>0.0</td>\n",
              "      <td>0.0</td>\n",
              "    </tr>\n",
              "    <tr>\n",
              "      <th>2</th>\n",
              "      <td>4</td>\n",
              "      <td>57.0</td>\n",
              "      <td>4</td>\n",
              "      <td>1.0</td>\n",
              "      <td>0.0</td>\n",
              "      <td>0.0</td>\n",
              "      <td>0.0</td>\n",
              "      <td>0.0</td>\n",
              "      <td>1.0</td>\n",
              "      <td>0.0</td>\n",
              "      <td>0.0</td>\n",
              "      <td>0.0</td>\n",
              "    </tr>\n",
              "    <tr>\n",
              "      <th>3</th>\n",
              "      <td>4</td>\n",
              "      <td>76.0</td>\n",
              "      <td>3</td>\n",
              "      <td>0.0</td>\n",
              "      <td>1.0</td>\n",
              "      <td>0.0</td>\n",
              "      <td>0.0</td>\n",
              "      <td>0.0</td>\n",
              "      <td>0.0</td>\n",
              "      <td>1.0</td>\n",
              "      <td>0.0</td>\n",
              "      <td>0.0</td>\n",
              "    </tr>\n",
              "    <tr>\n",
              "      <th>4</th>\n",
              "      <td>4</td>\n",
              "      <td>63.0</td>\n",
              "      <td>3</td>\n",
              "      <td>0.0</td>\n",
              "      <td>0.0</td>\n",
              "      <td>0.0</td>\n",
              "      <td>1.0</td>\n",
              "      <td>0.0</td>\n",
              "      <td>1.0</td>\n",
              "      <td>0.0</td>\n",
              "      <td>0.0</td>\n",
              "      <td>0.0</td>\n",
              "    </tr>\n",
              "    <tr>\n",
              "      <th>...</th>\n",
              "      <td>...</td>\n",
              "      <td>...</td>\n",
              "      <td>...</td>\n",
              "      <td>...</td>\n",
              "      <td>...</td>\n",
              "      <td>...</td>\n",
              "      <td>...</td>\n",
              "      <td>...</td>\n",
              "      <td>...</td>\n",
              "      <td>...</td>\n",
              "      <td>...</td>\n",
              "      <td>...</td>\n",
              "    </tr>\n",
              "    <tr>\n",
              "      <th>132</th>\n",
              "      <td>4</td>\n",
              "      <td>47.0</td>\n",
              "      <td>3</td>\n",
              "      <td>0.0</td>\n",
              "      <td>0.0</td>\n",
              "      <td>1.0</td>\n",
              "      <td>0.0</td>\n",
              "      <td>1.0</td>\n",
              "      <td>0.0</td>\n",
              "      <td>0.0</td>\n",
              "      <td>0.0</td>\n",
              "      <td>0.0</td>\n",
              "    </tr>\n",
              "    <tr>\n",
              "      <th>133</th>\n",
              "      <td>4</td>\n",
              "      <td>56.0</td>\n",
              "      <td>3</td>\n",
              "      <td>1.0</td>\n",
              "      <td>0.0</td>\n",
              "      <td>0.0</td>\n",
              "      <td>0.0</td>\n",
              "      <td>0.0</td>\n",
              "      <td>0.0</td>\n",
              "      <td>0.0</td>\n",
              "      <td>0.0</td>\n",
              "      <td>1.0</td>\n",
              "    </tr>\n",
              "    <tr>\n",
              "      <th>134</th>\n",
              "      <td>4</td>\n",
              "      <td>64.0</td>\n",
              "      <td>3</td>\n",
              "      <td>1.0</td>\n",
              "      <td>0.0</td>\n",
              "      <td>0.0</td>\n",
              "      <td>0.0</td>\n",
              "      <td>0.0</td>\n",
              "      <td>0.0</td>\n",
              "      <td>0.0</td>\n",
              "      <td>0.0</td>\n",
              "      <td>1.0</td>\n",
              "    </tr>\n",
              "    <tr>\n",
              "      <th>135</th>\n",
              "      <td>5</td>\n",
              "      <td>66.0</td>\n",
              "      <td>3</td>\n",
              "      <td>1.0</td>\n",
              "      <td>0.0</td>\n",
              "      <td>0.0</td>\n",
              "      <td>0.0</td>\n",
              "      <td>0.0</td>\n",
              "      <td>0.0</td>\n",
              "      <td>0.0</td>\n",
              "      <td>0.0</td>\n",
              "      <td>1.0</td>\n",
              "    </tr>\n",
              "    <tr>\n",
              "      <th>136</th>\n",
              "      <td>4</td>\n",
              "      <td>62.0</td>\n",
              "      <td>3</td>\n",
              "      <td>0.0</td>\n",
              "      <td>1.0</td>\n",
              "      <td>0.0</td>\n",
              "      <td>0.0</td>\n",
              "      <td>0.0</td>\n",
              "      <td>0.0</td>\n",
              "      <td>0.0</td>\n",
              "      <td>1.0</td>\n",
              "      <td>0.0</td>\n",
              "    </tr>\n",
              "  </tbody>\n",
              "</table>\n",
              "<p>137 rows × 12 columns</p>\n",
              "</div>"
            ],
            "text/plain": [
              "     BI_RADS   Age  Density  Shape_0  ...  Margin_1  Margin_2  Margin_3  Margin_4\n",
              "0          5  65.0        3      0.0  ...       1.0       0.0       0.0       0.0\n",
              "1          5  74.0        3      0.0  ...       0.0       1.0       0.0       0.0\n",
              "2          4  57.0        4      1.0  ...       1.0       0.0       0.0       0.0\n",
              "3          4  76.0        3      0.0  ...       0.0       1.0       0.0       0.0\n",
              "4          4  63.0        3      0.0  ...       1.0       0.0       0.0       0.0\n",
              "..       ...   ...      ...      ...  ...       ...       ...       ...       ...\n",
              "132        4  47.0        3      0.0  ...       0.0       0.0       0.0       0.0\n",
              "133        4  56.0        3      1.0  ...       0.0       0.0       0.0       1.0\n",
              "134        4  64.0        3      1.0  ...       0.0       0.0       0.0       1.0\n",
              "135        5  66.0        3      1.0  ...       0.0       0.0       0.0       1.0\n",
              "136        4  62.0        3      0.0  ...       0.0       0.0       1.0       0.0\n",
              "\n",
              "[137 rows x 12 columns]"
            ]
          },
          "metadata": {
            "tags": []
          },
          "execution_count": 55
        }
      ]
    },
    {
      "cell_type": "code",
      "metadata": {
        "id": "hSa3DastXmuD"
      },
      "source": [
        "y = x_train_pd['Severity']\n",
        "X = x_train_pd.drop(['Severity'], axis=1)"
      ],
      "execution_count": 56,
      "outputs": []
    },
    {
      "cell_type": "code",
      "metadata": {
        "id": "n_1bvVX2JH61"
      },
      "source": [
        "X_train, X_val, y_train, y_val = model_selection.train_test_split(X, y, test_size=0.25, random_state=0)\n"
      ],
      "execution_count": 57,
      "outputs": []
    },
    {
      "cell_type": "markdown",
      "metadata": {
        "id": "-gWRENczsCrt"
      },
      "source": [
        "# Lets try DecisionTreeClasifier"
      ]
    },
    {
      "cell_type": "code",
      "metadata": {
        "id": "CVXcLmRtJHuP",
        "outputId": "59fefc84-b6fa-4547-d6c2-45018ed148f7",
        "colab": {
          "base_uri": "https://localhost:8080/",
          "height": 0
        }
      },
      "source": [
        "from sklearn import tree\n",
        "clf = tree.DecisionTreeClassifier(random_state=0)\n",
        "clf = clf.fit(X_train, y_train)\n",
        "y_pred = clf.predict(X_val)\n",
        "clf.score(X_val, y_val)"
      ],
      "execution_count": 58,
      "outputs": [
        {
          "output_type": "execute_result",
          "data": {
            "text/plain": [
              "0.7516339869281046"
            ]
          },
          "metadata": {
            "tags": []
          },
          "execution_count": 58
        }
      ]
    },
    {
      "cell_type": "markdown",
      "metadata": {
        "id": "nsu22Yxaymcq"
      },
      "source": [
        "# Lets Drop **Density**\n",
        "\n",
        "As we seen as part of EDA, **Density** is not that significant for decision making. Lets drop and see if score improves."
      ]
    },
    {
      "cell_type": "code",
      "metadata": {
        "id": "JlJoTxs12irq"
      },
      "source": [
        "wod_X_train = X_train.drop(['Density'], axis=1)\n",
        "wod_X_val = X_val.drop(['Density'], axis=1)\n"
      ],
      "execution_count": 59,
      "outputs": []
    },
    {
      "cell_type": "code",
      "metadata": {
        "id": "v_I_yEGMnRwd",
        "outputId": "d11e4e70-c5ad-458c-c57b-e10c3e9fef3f",
        "colab": {
          "base_uri": "https://localhost:8080/",
          "height": 0
        }
      },
      "source": [
        "from sklearn import tree\n",
        "clf = tree.DecisionTreeClassifier(random_state=0)\n",
        "clf = clf.fit(wod_X_train, y_train)\n",
        "y_pred = clf.predict(wod_X_val)\n",
        "clf.score(wod_X_val, y_val)"
      ],
      "execution_count": 60,
      "outputs": [
        {
          "output_type": "execute_result",
          "data": {
            "text/plain": [
              "0.7712418300653595"
            ]
          },
          "metadata": {
            "tags": []
          },
          "execution_count": 60
        }
      ]
    },
    {
      "cell_type": "markdown",
      "metadata": {
        "id": "nsj2Iar-ylIS"
      },
      "source": [
        "So, removing **Density** is actually beneficial atleast with DecisionTreeClassifier.\n",
        "\n",
        "Some algorithms are robust to such redundant features, eg. RandomForest, neural networks. Retaining such feautures results in unnecessary computations, which can make traing and inferencig very slow specially when we have huge redundant features."
      ]
    },
    {
      "cell_type": "markdown",
      "metadata": {
        "id": "AsrvRUXNsHvY"
      },
      "source": [
        "# HyperParameter search using GridSearchCV.\n",
        "\n",
        "We are getting good score with Decision Tree. The decision tree classifier uses only one tree.\n",
        "\n",
        "To increase the accuracy we can try using RandomForest, where multiple trees will be used. This time we will also try to search the best paramters for the RandomForest.\n",
        "\n",
        "We can also use RandomSearchCV, where we define the distributions for the hyper-parameters and RandomSearchCV will take some random parametrers out of those distribution to find the best paramerers."
      ]
    },
    {
      "cell_type": "code",
      "metadata": {
        "id": "Qi3vi5fzLP8m"
      },
      "source": [
        "from sklearn.ensemble import RandomForestClassifier\n",
        "from sklearn.model_selection import GridSearchCV\n",
        "# Create the parameter grid based on the results of random search \n",
        "param_grid = {\n",
        "    'bootstrap': [True],\n",
        "    'max_depth': [50, 80, 100],\n",
        "    'max_features': [1, 2, 3],\n",
        "    'min_samples_leaf': [3, 4, 5],\n",
        "    'min_samples_split': [8, 10],\n",
        "    'n_estimators': [150, 200, 225, 300]\n",
        "}\n"
      ],
      "execution_count": 24,
      "outputs": []
    },
    {
      "cell_type": "code",
      "metadata": {
        "id": "A7MZ-YCJLQGs",
        "outputId": "52f7bde6-8f5c-4b6e-d71a-b064ebdd2177",
        "colab": {
          "base_uri": "https://localhost:8080/",
          "height": 0
        }
      },
      "source": [
        "# Create a based model\n",
        "rf = RandomForestClassifier()\n",
        "\n",
        "# Instantiate the grid search model\n",
        "grid_search = GridSearchCV(estimator = rf, param_grid = param_grid, \n",
        "                          cv = 3, n_jobs = -1, verbose = 4)\n",
        "\n",
        "# Fit the grid search to the data\n",
        "grid_search.fit(X_train, y_train)"
      ],
      "execution_count": 25,
      "outputs": [
        {
          "output_type": "stream",
          "text": [
            "Fitting 3 folds for each of 576 candidates, totalling 1728 fits\n"
          ],
          "name": "stdout"
        },
        {
          "output_type": "stream",
          "text": [
            "[Parallel(n_jobs=-1)]: Using backend LokyBackend with 2 concurrent workers.\n",
            "[Parallel(n_jobs=-1)]: Done  21 tasks      | elapsed:    6.7s\n",
            "[Parallel(n_jobs=-1)]: Done  94 tasks      | elapsed:   26.2s\n",
            "[Parallel(n_jobs=-1)]: Done 217 tasks      | elapsed:   58.4s\n",
            "[Parallel(n_jobs=-1)]: Done 388 tasks      | elapsed:  1.7min\n",
            "[Parallel(n_jobs=-1)]: Done 609 tasks      | elapsed:  2.7min\n",
            "[Parallel(n_jobs=-1)]: Done 878 tasks      | elapsed:  3.9min\n",
            "[Parallel(n_jobs=-1)]: Done 1197 tasks      | elapsed:  5.3min\n",
            "[Parallel(n_jobs=-1)]: Done 1564 tasks      | elapsed:  7.0min\n",
            "[Parallel(n_jobs=-1)]: Done 1728 out of 1728 | elapsed:  7.7min finished\n"
          ],
          "name": "stderr"
        },
        {
          "output_type": "execute_result",
          "data": {
            "text/plain": [
              "GridSearchCV(cv=3, error_score=nan,\n",
              "             estimator=RandomForestClassifier(bootstrap=True, ccp_alpha=0.0,\n",
              "                                              class_weight=None,\n",
              "                                              criterion='gini', max_depth=None,\n",
              "                                              max_features='auto',\n",
              "                                              max_leaf_nodes=None,\n",
              "                                              max_samples=None,\n",
              "                                              min_impurity_decrease=0.0,\n",
              "                                              min_impurity_split=None,\n",
              "                                              min_samples_leaf=1,\n",
              "                                              min_samples_split=2,\n",
              "                                              min_weight_fraction_leaf=0.0,\n",
              "                                              n_estimators=100, n_jobs=None,\n",
              "                                              oob_score=False,\n",
              "                                              random_state=None, verbose=0,\n",
              "                                              warm_start=False),\n",
              "             iid='deprecated', n_jobs=-1,\n",
              "             param_grid={'bootstrap': [True], 'max_depth': [50, 80, 100, 110],\n",
              "                         'max_features': [1, 2, 3],\n",
              "                         'min_samples_leaf': [3, 4, 5, 7],\n",
              "                         'min_samples_split': [8, 10, 12],\n",
              "                         'n_estimators': [150, 200, 225, 300]},\n",
              "             pre_dispatch='2*n_jobs', refit=True, return_train_score=False,\n",
              "             scoring=None, verbose=4)"
            ]
          },
          "metadata": {
            "tags": []
          },
          "execution_count": 25
        }
      ]
    },
    {
      "cell_type": "code",
      "metadata": {
        "id": "cng40EZILPw_",
        "outputId": "7fcbf190-43a6-4f1c-c4d6-feb56b0444eb",
        "colab": {
          "base_uri": "https://localhost:8080/",
          "height": 0
        }
      },
      "source": [
        "\n",
        "pp.pprint(grid_search.best_params_)\n",
        "\n",
        "best_search = grid_search.best_estimator_\n",
        "print(\"\\n\")\n",
        "pp.pprint(model_selection.cross_val_score(best_search, X, y, cv=5))\n",
        "y_pred = best_search.predict(X_val)\n",
        "\n",
        "print(\"\\nMean Accuracy: %s\" %(best_search.score(X_val, y_val)))"
      ],
      "execution_count": 27,
      "outputs": [
        {
          "output_type": "stream",
          "text": [
            "{   'bootstrap': True,\n",
            "    'max_depth': 80,\n",
            "    'max_features': 1,\n",
            "    'min_samples_leaf': 4,\n",
            "    'min_samples_split': 8,\n",
            "    'n_estimators': 300}\n",
            "\n",
            "\n",
            "array([0.83606557, 0.85245902, 0.89344262, 0.80327869, 0.8442623 ])\n",
            "\n",
            "Mean Accuracy: 0.8169934640522876\n"
          ],
          "name": "stdout"
        }
      ]
    },
    {
      "cell_type": "code",
      "metadata": {
        "id": "1DOnco-wj4hn",
        "outputId": "f79ec869-2f12-4a20-f432-a861d9272a39",
        "colab": {
          "base_uri": "https://localhost:8080/",
          "height": 0
        }
      },
      "source": [
        "# Create a based model\n",
        "rf2 = RandomForestClassifier()\n",
        "\n",
        "# Instantiate the grid search model\n",
        "grid_search2 = GridSearchCV(estimator = rf2, param_grid = param_grid, \n",
        "                          cv = 3, n_jobs = -1, verbose = 4)\n",
        "\n",
        "# Fit the grid search to the data\n",
        "grid_search2.fit(wod_X_train, y_train)"
      ],
      "execution_count": 28,
      "outputs": [
        {
          "output_type": "stream",
          "text": [
            "Fitting 3 folds for each of 576 candidates, totalling 1728 fits\n"
          ],
          "name": "stdout"
        },
        {
          "output_type": "stream",
          "text": [
            "[Parallel(n_jobs=-1)]: Using backend LokyBackend with 2 concurrent workers.\n",
            "[Parallel(n_jobs=-1)]: Done  21 tasks      | elapsed:    5.3s\n",
            "[Parallel(n_jobs=-1)]: Done  94 tasks      | elapsed:   24.6s\n",
            "[Parallel(n_jobs=-1)]: Done 217 tasks      | elapsed:   56.9s\n",
            "[Parallel(n_jobs=-1)]: Done 388 tasks      | elapsed:  1.7min\n",
            "[Parallel(n_jobs=-1)]: Done 609 tasks      | elapsed:  2.7min\n",
            "[Parallel(n_jobs=-1)]: Done 878 tasks      | elapsed:  3.9min\n",
            "[Parallel(n_jobs=-1)]: Done 1197 tasks      | elapsed:  5.3min\n",
            "[Parallel(n_jobs=-1)]: Done 1564 tasks      | elapsed:  6.9min\n",
            "[Parallel(n_jobs=-1)]: Done 1728 out of 1728 | elapsed:  7.7min finished\n"
          ],
          "name": "stderr"
        },
        {
          "output_type": "execute_result",
          "data": {
            "text/plain": [
              "GridSearchCV(cv=3, error_score=nan,\n",
              "             estimator=RandomForestClassifier(bootstrap=True, ccp_alpha=0.0,\n",
              "                                              class_weight=None,\n",
              "                                              criterion='gini', max_depth=None,\n",
              "                                              max_features='auto',\n",
              "                                              max_leaf_nodes=None,\n",
              "                                              max_samples=None,\n",
              "                                              min_impurity_decrease=0.0,\n",
              "                                              min_impurity_split=None,\n",
              "                                              min_samples_leaf=1,\n",
              "                                              min_samples_split=2,\n",
              "                                              min_weight_fraction_leaf=0.0,\n",
              "                                              n_estimators=100, n_jobs=None,\n",
              "                                              oob_score=False,\n",
              "                                              random_state=None, verbose=0,\n",
              "                                              warm_start=False),\n",
              "             iid='deprecated', n_jobs=-1,\n",
              "             param_grid={'bootstrap': [True], 'max_depth': [50, 80, 100, 110],\n",
              "                         'max_features': [1, 2, 3],\n",
              "                         'min_samples_leaf': [3, 4, 5, 7],\n",
              "                         'min_samples_split': [8, 10, 12],\n",
              "                         'n_estimators': [150, 200, 225, 300]},\n",
              "             pre_dispatch='2*n_jobs', refit=True, return_train_score=False,\n",
              "             scoring=None, verbose=4)"
            ]
          },
          "metadata": {
            "tags": []
          },
          "execution_count": 28
        }
      ]
    },
    {
      "cell_type": "code",
      "metadata": {
        "id": "6OFHd4nH6JXJ",
        "outputId": "66fb51e0-1d6d-4abd-ddfc-fa55a0c5ac70",
        "colab": {
          "base_uri": "https://localhost:8080/",
          "height": 0
        }
      },
      "source": [
        "pp.pprint(grid_search2.best_params_)\n",
        "\n",
        "best_search2 = grid_search2.best_estimator_\n",
        "print(\"\\n\")\n",
        "pp.pprint(model_selection.cross_val_score(best_search2, X.drop(['Density'], axis=1), y, cv=5))\n",
        "y_pred2 = best_search2.predict(wod_X_val)\n",
        "\n",
        "print(\"\\nMean Accuracy: %s\" %(best_search2.score(wod_X_val, y_val)))"
      ],
      "execution_count": 29,
      "outputs": [
        {
          "output_type": "stream",
          "text": [
            "{   'bootstrap': True,\n",
            "    'max_depth': 100,\n",
            "    'max_features': 1,\n",
            "    'min_samples_leaf': 4,\n",
            "    'min_samples_split': 10,\n",
            "    'n_estimators': 150}\n",
            "\n",
            "\n",
            "array([0.8442623 , 0.86065574, 0.89344262, 0.80327869, 0.8442623 ])\n",
            "\n",
            "Mean Accuracy: 0.8300653594771242\n"
          ],
          "name": "stdout"
        }
      ]
    },
    {
      "cell_type": "markdown",
      "metadata": {
        "id": "8xSy9KsTHZRY"
      },
      "source": [
        "Again we have observed that, dropping **Density** is giving better results on train and validation dataset. "
      ]
    },
    {
      "cell_type": "markdown",
      "metadata": {
        "id": "zoC0MdZo-Qc2"
      },
      "source": [
        "# Accurecy on real test dataset.\n",
        "\n",
        "<u> **BIG NOTE:** Somehow we have access to real predictions for test data as well. Usually this is not the case. Perhaps lets analyse model and consider this test data as a prduction data.</u>"
      ]
    },
    {
      "cell_type": "code",
      "metadata": {
        "id": "DXNXg5K_-drH",
        "outputId": "bc8fd3d4-57d1-4b37-b068-0eeb58a12a8d",
        "colab": {
          "base_uri": "https://localhost:8080/",
          "height": 0
        }
      },
      "source": [
        "print(\"\\nMean Accuracy with Density: %s\" %(best_search.score(x_test_pd, y_test_pd)))\n",
        "\n",
        "print(\"\\nMean Accuracy without Density: %s\" %(best_search2.score(x_test_pd.drop(['Density'], axis=1), y_test_pd)))"
      ],
      "execution_count": 62,
      "outputs": [
        {
          "output_type": "stream",
          "text": [
            "\n",
            "Mean Accuracy with Density: 0.8102189781021898\n",
            "\n",
            "Mean Accuracy without Density: 0.7956204379562044\n"
          ],
          "name": "stdout"
        }
      ]
    },
    {
      "cell_type": "markdown",
      "metadata": {
        "id": "TM5OgDl7HsWG"
      },
      "source": [
        "Surprisingly, on test dataset we are getting better accurecy if we consider Density feature.\n",
        "\n",
        "This might be due to the fact that our test dataset might have different distribution for Density.\n",
        "\n",
        "OR we might have to consider few more parameters while GridSearch, so that we will get even more optimised model. "
      ]
    },
    {
      "cell_type": "code",
      "metadata": {
        "id": "KELq-6qzzF4Y",
        "outputId": "9660a6f7-ae0a-4e1c-80f9-b1873505eba9",
        "colab": {
          "base_uri": "https://localhost:8080/",
          "height": 296
        }
      },
      "source": [
        "from sklearn import metrics\n",
        "\n",
        "metrics.plot_roc_curve(best_search, X_val, y_val)"
      ],
      "execution_count": 63,
      "outputs": [
        {
          "output_type": "execute_result",
          "data": {
            "text/plain": [
              "<sklearn.metrics._plot.roc_curve.RocCurveDisplay at 0x7f885901cfd0>"
            ]
          },
          "metadata": {
            "tags": []
          },
          "execution_count": 63
        },
        {
          "output_type": "display_data",
          "data": {
            "image/png": "[encoded data removed]",
            "text/plain": [
              "<Figure size 432x288 with 1 Axes>"
            ]
          },
          "metadata": {
            "tags": [],
            "needs_background": "light"
          }
        }
      ]
    },
    {
      "cell_type": "code",
      "metadata": {
        "id": "OAu6L5CPIudX",
        "outputId": "a8095208-73d9-486d-df7b-613d5a060156",
        "colab": {
          "base_uri": "https://localhost:8080/",
          "height": 279
        }
      },
      "source": [
        "disp = metrics.plot_confusion_matrix(best_search, X_val, y_val,\n",
        "                                 cmap=plt.cm.Blues)"
      ],
      "execution_count": 64,
      "outputs": [
        {
          "output_type": "display_data",
          "data": {
            "image/png": "[encoded data removed]",
            "text/plain": [
              "<Figure size 432x288 with 2 Axes>"
            ]
          },
          "metadata": {
            "tags": [],
            "needs_background": "light"
          }
        }
      ]
    },
    {
      "cell_type": "code",
      "metadata": {
        "id": "9zlNVdUAJE8o"
      },
      "source": [
        "conf_mtx = disp.confusion_matrix"
      ],
      "execution_count": 76,
      "outputs": []
    },
    {
      "cell_type": "code",
      "metadata": {
        "id": "sTC1HDy0Tpb9",
        "outputId": "5100abef-35ce-4b75-d21d-024418cfc0e3",
        "colab": {
          "base_uri": "https://localhost:8080/"
        }
      },
      "source": [
        "tn, fp, fn, tp = conf_mtx.ravel()\n",
        "\n",
        "print(\"tn, fp, fn, tp\", tn, fp, fn, tp)\n",
        "print(\"Type_1_Error (fp): \", fp)\n",
        "print(\"Type_2_Error (fn): \", fn)\n",
        "\n",
        "# percentage of wrong predictions of this model \n",
        "print(\"probability of Type_1: Error\", fp/tn)\n",
        "print(\"probability of Type_2 Error: \", fn/tp)"
      ],
      "execution_count": 90,
      "outputs": [
        {
          "output_type": "stream",
          "text": [
            "tn, fp, fn, tp 66 14 14 59\n",
            "Type_1_Error (fp):  14\n",
            "Type_2_Error (fn):  14\n",
            "probability of Type_1:  0.21212121212121213\n",
            "probability of Type_1:  0.23728813559322035\n"
          ],
          "name": "stdout"
        }
      ]
    },
    {
      "cell_type": "markdown",
      "metadata": {
        "id": "QNsd3fvmXXwo"
      },
      "source": [
        "This means there is 21% chance that, our model will say patient is Severe when he is not.\n",
        "\n",
        "Also, 23% chance that, our model will say say patient is NOT Severe when he is.\n",
        "\n",
        "Now, Some doctors might say, 23% is big percentage when we dont intimate the patient that he is Severe. It is perfectly ok if we say Severe when patient is actualy not Severe. \n",
        "\n",
        "# How to tackle this situation?\n",
        "\n",
        "We can decrese the decision threshold for the model. By default it is 0.5 lets let it to 0.3 and calculate the errors again."
      ]
    },
    {
      "cell_type": "code",
      "metadata": {
        "id": "LE7Nlld7Zipv",
        "outputId": "67fadd6f-4988-440b-c63b-7bda2ac90255",
        "colab": {
          "base_uri": "https://localhost:8080/",
          "height": 299
        }
      },
      "source": [
        "y_pred_3 = (best_search.predict_proba(X_val)[:,1] >= 0.3).astype(bool) # set threshold as 0.3\n",
        "\n",
        "conf_mtx2 = metrics.confusion_matrix(y_val, y_pred_3)\n",
        "\n",
        "print(\"Accuracy: \", metrics.accuracy_score(y_val, y_pred_3))\n",
        "\n",
        "\n",
        "sns.heatmap(conf_mtx2, annot=True)\n"
      ],
      "execution_count": 99,
      "outputs": [
        {
          "output_type": "stream",
          "text": [
            "Accuracy:  0.7777777777777778\n"
          ],
          "name": "stdout"
        },
        {
          "output_type": "execute_result",
          "data": {
            "text/plain": [
              "<matplotlib.axes._subplots.AxesSubplot at 0x7f8858759ef0>"
            ]
          },
          "metadata": {
            "tags": []
          },
          "execution_count": 99
        },
        {
          "output_type": "display_data",
          "data": {
            "image/png": "[encoded data removed]",
            "text/plain": [
              "<Figure size 432x288 with 2 Axes>"
            ]
          },
          "metadata": {
            "tags": [],
            "needs_background": "light"
          }
        }
      ]
    },
    {
      "cell_type": "code",
      "metadata": {
        "id": "zSCWlCrOZjNk",
        "outputId": "51fe57fb-0dcc-47f7-8a0c-416ebc41fe0d",
        "colab": {
          "base_uri": "https://localhost:8080/"
        }
      },
      "source": [
        "tn, fp, fn, tp = conf_mtx2.ravel()\n",
        "\n",
        "print(\"tn, fp, fn, tp\", tn, fp, fn, tp)\n",
        "print(\"Type_1_Error (fp): \", fp)\n",
        "print(\"Type_2_Error (fn): \", fn)\n",
        "\n",
        "# percentage of wrong predictions of this model \n",
        "print(\"probability of Type_1 Error: \", fp/tn)\n",
        "print(\"probability of Type_2 Error: \", fn/tp)"
      ],
      "execution_count": 96,
      "outputs": [
        {
          "output_type": "stream",
          "text": [
            "tn, fp, fn, tp 51 29 5 68\n",
            "Type_1_Error (fp):  29\n",
            "Type_2_Error (fn):  5\n",
            "probability of Type_1 Error:  0.5686274509803921\n",
            "probability of Type_2 Error:  0.07352941176470588\n"
          ],
          "name": "stdout"
        }
      ]
    },
    {
      "cell_type": "markdown",
      "metadata": {
        "id": "_SxIoNr0aug-"
      },
      "source": [
        "Now Type_2 error is reduced dramatically. Now doctor can confidently say that patient is not in Severe condition.\n",
        "\n",
        "**NOTE: ** By changing threshold the accurecy has changed a lot, which is obvious."
      ]
    },
    {
      "cell_type": "markdown",
      "metadata": {
        "id": "FrAQtcXFN2LR"
      },
      "source": [
        "# Apply very simple algorithm MultinomialNB"
      ]
    },
    {
      "cell_type": "code",
      "metadata": {
        "id": "eXE_gOXqwG4b",
        "outputId": "b0bd09ea-3822-429f-e600-3baf4389b6b8",
        "colab": {
          "base_uri": "https://localhost:8080/",
          "height": 0
        }
      },
      "source": [
        "from sklearn.preprocessing import MinMaxScaler\n",
        "from sklearn.naive_bayes import MultinomialNB\n",
        "clf = MultinomialNB()\n",
        "clf.fit(X_train,y_train)\n",
        "y_pred = clf.predict(X_val)\n",
        "# clf.score(X_test,y_test)\n",
        "scores = model_selection.cross_val_score(clf,X,y,cv=10)\n",
        "print(scores)\n",
        "print(scores.mean())"
      ],
      "execution_count": 65,
      "outputs": [
        {
          "output_type": "stream",
          "text": [
            "[0.72131148 0.78688525 0.83606557 0.78688525 0.83606557 0.86885246\n",
            " 0.67213115 0.85245902 0.75409836 0.81967213]\n",
            "0.7934426229508198\n"
          ],
          "name": "stdout"
        }
      ]
    },
    {
      "cell_type": "markdown",
      "metadata": {
        "id": "9bD6Vm8iN8bd"
      },
      "source": [
        "We are getting good results with MultinomialNB as well.\n",
        "\n",
        "# Now Which one to choose from? \n",
        "\n",
        "We should choose RandomForestClassifier as it is giving giving better result. On the other hand although RandomForestClassifier is quite fast still, if we want exteramly faster algorithm and ready to compromise slightly on accuray then MultinomialNB should be the choice."
      ]
    },
    {
      "cell_type": "code",
      "metadata": {
        "id": "dYF4Mk_4RmOk"
      },
      "source": [
        ""
      ],
      "execution_count": null,
      "outputs": []
    }
  ]
}